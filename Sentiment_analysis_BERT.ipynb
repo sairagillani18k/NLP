{
  "nbformat": 4,
  "nbformat_minor": 0,
  "metadata": {
    "colab": {
      "name": "Sentiment_analysis_BERT.ipynb",
      "provenance": [],
      "authorship_tag": "ABX9TyMuQJSbHdHYq/stMTdLp0zX",
      "include_colab_link": true
    },
    "kernelspec": {
      "name": "python3",
      "display_name": "Python 3"
    },
    "language_info": {
      "name": "python"
    },
    "accelerator": "GPU"
  },
  "cells": [
    {
      "cell_type": "markdown",
      "metadata": {
        "id": "view-in-github",
        "colab_type": "text"
      },
      "source": [
        "<a href=\"https://colab.research.google.com/github/sairagillani18k/NLP/blob/main/Sentiment_analysis_BERT.ipynb\" target=\"_parent\"><img src=\"https://colab.research.google.com/assets/colab-badge.svg\" alt=\"Open In Colab\"/></a>"
      ]
    },
    {
      "cell_type": "markdown",
      "source": [
        "**Sentiment Analysis**  is a natural language processing (NLP) technique used to determine whether data is positive, negative or neutral."
      ],
      "metadata": {
        "id": "s7mkGNzpZFp0"
      }
    },
    {
      "cell_type": "markdown",
      "source": [
        "**BERT** Bidirectional Encoder Representations from Transformers is a transformer-based machine learning technique for natural language processing.\n",
        "It is designed to help computers understand the meaning of ambiguous language in text by using surrounding text to establish context.\n",
        "\n",
        "![image.png](data:image/png;base64,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)"
      ],
      "metadata": {
        "id": "vTVNpgUZXLe6"
      }
    },
    {
      "cell_type": "markdown",
      "source": [
        "**Import Tensor flow**"
      ],
      "metadata": {
        "id": "PAlEJ25TVMjG"
      }
    },
    {
      "cell_type": "code",
      "execution_count": 76,
      "metadata": {
        "id": "ECHDucxQ_8TJ"
      },
      "outputs": [],
      "source": [
        "import tensorflow as tf"
      ]
    },
    {
      "cell_type": "markdown",
      "source": [
        "**No of GPUs available**"
      ],
      "metadata": {
        "id": "G1-JpjIcaiHZ"
      }
    },
    {
      "cell_type": "code",
      "source": [
        "num_gpus_available = len(tf.config.experimental.list_physical_devices('GPU'))\n",
        "print(\"Num GPUs Available: \" , num_gpus_available)\n",
        "assert num_gpus_available >0"
      ],
      "metadata": {
        "colab": {
          "base_uri": "https://localhost:8080/"
        },
        "id": "7O8IwP26ADVg",
        "outputId": "5d22c9af-e226-4664-90de-242c98ff7832"
      },
      "execution_count": 77,
      "outputs": [
        {
          "output_type": "stream",
          "name": "stdout",
          "text": [
            "Num GPUs Available:  1\n"
          ]
        }
      ]
    },
    {
      "cell_type": "markdown",
      "source": [
        "**Install Transformers**"
      ],
      "metadata": {
        "id": "njyWtd0CaIX6"
      }
    },
    {
      "cell_type": "code",
      "source": [
        "!pip install transformers"
      ],
      "metadata": {
        "id": "0zDFTTBeAttl"
      },
      "execution_count": null,
      "outputs": []
    },
    {
      "cell_type": "markdown",
      "source": [
        "**Import libraries**"
      ],
      "metadata": {
        "id": "Op2Zk_2_Uur8"
      }
    },
    {
      "cell_type": "code",
      "source": [
        "from transformers import DistilBertTokenizerFast\n",
        "from transformers import TFDistilBertForSequenceClassification\n",
        "import pandas as pd\n",
        "import numpy as np"
      ],
      "metadata": {
        "id": "7CD1OayQBjEK"
      },
      "execution_count": 79,
      "outputs": []
    },
    {
      "cell_type": "markdown",
      "source": [
        "**To getrid of stop words**"
      ],
      "metadata": {
        "id": "FtoRvu7Ta0Kw"
      }
    },
    {
      "cell_type": "code",
      "source": [
        "import nltk\n",
        "import re\n",
        "nltk.download('stopwords')\n",
        "from nltk.corpus import stopwords\n",
        "from nltk.stem.porter import PorterStemmer\n"
      ],
      "metadata": {
        "colab": {
          "base_uri": "https://localhost:8080/"
        },
        "id": "-STkbiEbB8ZZ",
        "outputId": "68ee8d64-512a-4d62-c4eb-c44d26174ac6"
      },
      "execution_count": 80,
      "outputs": [
        {
          "output_type": "stream",
          "name": "stdout",
          "text": [
            "[nltk_data] Downloading package stopwords to /root/nltk_data...\n",
            "[nltk_data]   Package stopwords is already up-to-date!\n"
          ]
        }
      ]
    },
    {
      "cell_type": "markdown",
      "source": [
        "**Lets do Sentiment Analysis on the reviews about Mobile Electronics**"
      ],
      "metadata": {
        "id": "YTv1ev1AbFsi"
      }
    },
    {
      "cell_type": "code",
      "source": [
        "import tensorflow_datasets as tfds\n",
        "ds = tfds.load('amazon_us_reviews/Mobile_Electronics_v1_00' , split = 'train' , shuffle_files = True)\n",
        "assert isinstance(ds, tf.data.Dataset)\n",
        "print(ds)"
      ],
      "metadata": {
        "colab": {
          "base_uri": "https://localhost:8080/"
        },
        "id": "KJR7VyeMCffU",
        "outputId": "ffa233ac-1966-4356-93fc-92c8c337af66"
      },
      "execution_count": 81,
      "outputs": [
        {
          "output_type": "stream",
          "name": "stdout",
          "text": [
            "<_OptionsDataset element_spec={'data': {'customer_id': TensorSpec(shape=(), dtype=tf.string, name=None), 'helpful_votes': TensorSpec(shape=(), dtype=tf.int32, name=None), 'marketplace': TensorSpec(shape=(), dtype=tf.string, name=None), 'product_category': TensorSpec(shape=(), dtype=tf.string, name=None), 'product_id': TensorSpec(shape=(), dtype=tf.string, name=None), 'product_parent': TensorSpec(shape=(), dtype=tf.string, name=None), 'product_title': TensorSpec(shape=(), dtype=tf.string, name=None), 'review_body': TensorSpec(shape=(), dtype=tf.string, name=None), 'review_date': TensorSpec(shape=(), dtype=tf.string, name=None), 'review_headline': TensorSpec(shape=(), dtype=tf.string, name=None), 'review_id': TensorSpec(shape=(), dtype=tf.string, name=None), 'star_rating': TensorSpec(shape=(), dtype=tf.int32, name=None), 'total_votes': TensorSpec(shape=(), dtype=tf.int32, name=None), 'verified_purchase': TensorSpec(shape=(), dtype=tf.int64, name=None), 'vine': TensorSpec(shape=(), dtype=tf.int64, name=None)}}>\n"
          ]
        }
      ]
    },
    {
      "cell_type": "code",
      "source": [
        "df = tfds.as_dataframe(ds)"
      ],
      "metadata": {
        "id": "Ii7Tq9k9DJD0"
      },
      "execution_count": 85,
      "outputs": []
    },
    {
      "cell_type": "code",
      "source": [
        "df.head(3)"
      ],
      "metadata": {
        "colab": {
          "base_uri": "https://localhost:8080/",
          "height": 311
        },
        "id": "VMr_MMEMFJTh",
        "outputId": "389cbeb3-54ef-448a-929b-ff634d57ba9b"
      },
      "execution_count": 86,
      "outputs": [
        {
          "output_type": "execute_result",
          "data": {
            "text/plain": [
              "  data/customer_id  data/helpful_votes data/marketplace  \\\n",
              "0      b'20980074'                   0            b'US'   \n",
              "1        b'779273'                   0            b'US'   \n",
              "2      b'15410531'                   0            b'US'   \n",
              "\n",
              "   data/product_category data/product_id data/product_parent  \\\n",
              "0  b'Mobile_Electronics'   b'B00D1847NE'        b'274617424'   \n",
              "1  b'Mobile_Electronics'   b'B00KMO6DYG'        b'397452138'   \n",
              "2  b'Mobile_Electronics'   b'B000GWLL0K'        b'948304826'   \n",
              "\n",
              "                                  data/product_title  \\\n",
              "0  b'Teenage Mutant Ninja Turtles Boombox CD Play...   \n",
              "1  b'4 Gauge Amp Kit Amplifier Install Wiring Com...   \n",
              "2  b'Travel Wall Charger fits Creative Zen Vision...   \n",
              "\n",
              "                                    data/review_body data/review_date  \\\n",
              "0                                   b'Does not work'    b'2015-01-09'   \n",
              "1  b'This is a great wiring kit i used it to set ...    b'2015-08-06'   \n",
              "2  b'It works great so much faster than USB charg...    b'2007-03-15'   \n",
              "\n",
              "                       data/review_headline     data/review_id  \\\n",
              "0                               b'One Star'  b'R1OVS0D6SEXPW7'   \n",
              "1                              b'Great kit'   b'R9VSD0ET8FERB'   \n",
              "2  b'A/C Charger for Creative Zen Vision M'  b'R3ISXCZHWLJLBH'   \n",
              "\n",
              "   data/star_rating  data/total_votes  data/verified_purchase  data/vine  \n",
              "0                 1                 0                       0          1  \n",
              "1                 4                 0                       0          1  \n",
              "2                 5                 0                       0          1  "
            ],
            "text/html": [
              "\n",
              "  <div id=\"df-5298dd32-a05f-4e68-9ece-2e43472d98c5\">\n",
              "    <div class=\"colab-df-container\">\n",
              "      <div>\n",
              "<style scoped>\n",
              "    .dataframe tbody tr th:only-of-type {\n",
              "        vertical-align: middle;\n",
              "    }\n",
              "\n",
              "    .dataframe tbody tr th {\n",
              "        vertical-align: top;\n",
              "    }\n",
              "\n",
              "    .dataframe thead th {\n",
              "        text-align: right;\n",
              "    }\n",
              "</style>\n",
              "<table border=\"1\" class=\"dataframe\">\n",
              "  <thead>\n",
              "    <tr style=\"text-align: right;\">\n",
              "      <th></th>\n",
              "      <th>data/customer_id</th>\n",
              "      <th>data/helpful_votes</th>\n",
              "      <th>data/marketplace</th>\n",
              "      <th>data/product_category</th>\n",
              "      <th>data/product_id</th>\n",
              "      <th>data/product_parent</th>\n",
              "      <th>data/product_title</th>\n",
              "      <th>data/review_body</th>\n",
              "      <th>data/review_date</th>\n",
              "      <th>data/review_headline</th>\n",
              "      <th>data/review_id</th>\n",
              "      <th>data/star_rating</th>\n",
              "      <th>data/total_votes</th>\n",
              "      <th>data/verified_purchase</th>\n",
              "      <th>data/vine</th>\n",
              "    </tr>\n",
              "  </thead>\n",
              "  <tbody>\n",
              "    <tr>\n",
              "      <th>0</th>\n",
              "      <td>b'20980074'</td>\n",
              "      <td>0</td>\n",
              "      <td>b'US'</td>\n",
              "      <td>b'Mobile_Electronics'</td>\n",
              "      <td>b'B00D1847NE'</td>\n",
              "      <td>b'274617424'</td>\n",
              "      <td>b'Teenage Mutant Ninja Turtles Boombox CD Play...</td>\n",
              "      <td>b'Does not work'</td>\n",
              "      <td>b'2015-01-09'</td>\n",
              "      <td>b'One Star'</td>\n",
              "      <td>b'R1OVS0D6SEXPW7'</td>\n",
              "      <td>1</td>\n",
              "      <td>0</td>\n",
              "      <td>0</td>\n",
              "      <td>1</td>\n",
              "    </tr>\n",
              "    <tr>\n",
              "      <th>1</th>\n",
              "      <td>b'779273'</td>\n",
              "      <td>0</td>\n",
              "      <td>b'US'</td>\n",
              "      <td>b'Mobile_Electronics'</td>\n",
              "      <td>b'B00KMO6DYG'</td>\n",
              "      <td>b'397452138'</td>\n",
              "      <td>b'4 Gauge Amp Kit Amplifier Install Wiring Com...</td>\n",
              "      <td>b'This is a great wiring kit i used it to set ...</td>\n",
              "      <td>b'2015-08-06'</td>\n",
              "      <td>b'Great kit'</td>\n",
              "      <td>b'R9VSD0ET8FERB'</td>\n",
              "      <td>4</td>\n",
              "      <td>0</td>\n",
              "      <td>0</td>\n",
              "      <td>1</td>\n",
              "    </tr>\n",
              "    <tr>\n",
              "      <th>2</th>\n",
              "      <td>b'15410531'</td>\n",
              "      <td>0</td>\n",
              "      <td>b'US'</td>\n",
              "      <td>b'Mobile_Electronics'</td>\n",
              "      <td>b'B000GWLL0K'</td>\n",
              "      <td>b'948304826'</td>\n",
              "      <td>b'Travel Wall Charger fits Creative Zen Vision...</td>\n",
              "      <td>b'It works great so much faster than USB charg...</td>\n",
              "      <td>b'2007-03-15'</td>\n",
              "      <td>b'A/C Charger for Creative Zen Vision M'</td>\n",
              "      <td>b'R3ISXCZHWLJLBH'</td>\n",
              "      <td>5</td>\n",
              "      <td>0</td>\n",
              "      <td>0</td>\n",
              "      <td>1</td>\n",
              "    </tr>\n",
              "  </tbody>\n",
              "</table>\n",
              "</div>\n",
              "      <button class=\"colab-df-convert\" onclick=\"convertToInteractive('df-5298dd32-a05f-4e68-9ece-2e43472d98c5')\"\n",
              "              title=\"Convert this dataframe to an interactive table.\"\n",
              "              style=\"display:none;\">\n",
              "        \n",
              "  <svg xmlns=\"http://www.w3.org/2000/svg\" height=\"24px\"viewBox=\"0 0 24 24\"\n",
              "       width=\"24px\">\n",
              "    <path d=\"M0 0h24v24H0V0z\" fill=\"none\"/>\n",
              "    <path d=\"M18.56 5.44l.94 2.06.94-2.06 2.06-.94-2.06-.94-.94-2.06-.94 2.06-2.06.94zm-11 1L8.5 8.5l.94-2.06 2.06-.94-2.06-.94L8.5 2.5l-.94 2.06-2.06.94zm10 10l.94 2.06.94-2.06 2.06-.94-2.06-.94-.94-2.06-.94 2.06-2.06.94z\"/><path d=\"M17.41 7.96l-1.37-1.37c-.4-.4-.92-.59-1.43-.59-.52 0-1.04.2-1.43.59L10.3 9.45l-7.72 7.72c-.78.78-.78 2.05 0 2.83L4 21.41c.39.39.9.59 1.41.59.51 0 1.02-.2 1.41-.59l7.78-7.78 2.81-2.81c.8-.78.8-2.07 0-2.86zM5.41 20L4 18.59l7.72-7.72 1.47 1.35L5.41 20z\"/>\n",
              "  </svg>\n",
              "      </button>\n",
              "      \n",
              "  <style>\n",
              "    .colab-df-container {\n",
              "      display:flex;\n",
              "      flex-wrap:wrap;\n",
              "      gap: 12px;\n",
              "    }\n",
              "\n",
              "    .colab-df-convert {\n",
              "      background-color: #E8F0FE;\n",
              "      border: none;\n",
              "      border-radius: 50%;\n",
              "      cursor: pointer;\n",
              "      display: none;\n",
              "      fill: #1967D2;\n",
              "      height: 32px;\n",
              "      padding: 0 0 0 0;\n",
              "      width: 32px;\n",
              "    }\n",
              "\n",
              "    .colab-df-convert:hover {\n",
              "      background-color: #E2EBFA;\n",
              "      box-shadow: 0px 1px 2px rgba(60, 64, 67, 0.3), 0px 1px 3px 1px rgba(60, 64, 67, 0.15);\n",
              "      fill: #174EA6;\n",
              "    }\n",
              "\n",
              "    [theme=dark] .colab-df-convert {\n",
              "      background-color: #3B4455;\n",
              "      fill: #D2E3FC;\n",
              "    }\n",
              "\n",
              "    [theme=dark] .colab-df-convert:hover {\n",
              "      background-color: #434B5C;\n",
              "      box-shadow: 0px 1px 3px 1px rgba(0, 0, 0, 0.15);\n",
              "      filter: drop-shadow(0px 1px 2px rgba(0, 0, 0, 0.3));\n",
              "      fill: #FFFFFF;\n",
              "    }\n",
              "  </style>\n",
              "\n",
              "      <script>\n",
              "        const buttonEl =\n",
              "          document.querySelector('#df-5298dd32-a05f-4e68-9ece-2e43472d98c5 button.colab-df-convert');\n",
              "        buttonEl.style.display =\n",
              "          google.colab.kernel.accessAllowed ? 'block' : 'none';\n",
              "\n",
              "        async function convertToInteractive(key) {\n",
              "          const element = document.querySelector('#df-5298dd32-a05f-4e68-9ece-2e43472d98c5');\n",
              "          const dataTable =\n",
              "            await google.colab.kernel.invokeFunction('convertToInteractive',\n",
              "                                                     [key], {});\n",
              "          if (!dataTable) return;\n",
              "\n",
              "          const docLinkHtml = 'Like what you see? Visit the ' +\n",
              "            '<a target=\"_blank\" href=https://colab.research.google.com/notebooks/data_table.ipynb>data table notebook</a>'\n",
              "            + ' to learn more about interactive tables.';\n",
              "          element.innerHTML = '';\n",
              "          dataTable['output_type'] = 'display_data';\n",
              "          await google.colab.output.renderOutput(dataTable, element);\n",
              "          const docLink = document.createElement('div');\n",
              "          docLink.innerHTML = docLinkHtml;\n",
              "          element.appendChild(docLink);\n",
              "        }\n",
              "      </script>\n",
              "    </div>\n",
              "  </div>\n",
              "  "
            ]
          },
          "metadata": {},
          "execution_count": 86
        }
      ]
    },
    {
      "cell_type": "markdown",
      "source": [
        "**Lets do some preprocessing**"
      ],
      "metadata": {
        "id": "L8T8azv5dT3z"
      }
    },
    {
      "cell_type": "markdown",
      "source": [
        "We will only be using reviews and star rating columns. \n",
        "Make a new column by the name of Sentiments. If the rating in the 'star_rating' column is greater than equal to 3, consider the reviews as **Positive** and assign them the label of \"1\" else consider them to be **Negative** and assign them \"0\"\n"
      ],
      "metadata": {
        "id": "V1TihQqidQyM"
      }
    },
    {
      "cell_type": "code",
      "source": [
        "df['Sentiment'] = df[\"data/star_rating\"].apply(lambda score: \"positive\" if score >=3 else \"negative\")\n",
        "df['Sentiment'] = df['Sentiment'].map({'positive':1 , 'negative': 0})\n",
        "df['short_review']= df['data/review_body'].str.decode(\"utf-8\")\n",
        "df= df[[\"short_review\", \"Sentiment\"]]"
      ],
      "metadata": {
        "id": "CVh4fqcGFjEE"
      },
      "execution_count": 83,
      "outputs": []
    },
    {
      "cell_type": "markdown",
      "source": [
        "**Now the data has only 2 columns**"
      ],
      "metadata": {
        "id": "NkQ4_acEeej8"
      }
    },
    {
      "cell_type": "code",
      "source": [
        "df.head()"
      ],
      "metadata": {
        "id": "7enyi6c_Gnb0"
      },
      "execution_count": null,
      "outputs": []
    },
    {
      "cell_type": "markdown",
      "source": [
        "**Reducing the data size for fast training**"
      ],
      "metadata": {
        "id": "QWYJzONlelr9"
      }
    },
    {
      "cell_type": "code",
      "source": [
        "n= 54975\n",
        "df.drop(df.tail(n).index, inplace = True)"
      ],
      "metadata": {
        "id": "jPpVp6cLGpWM"
      },
      "execution_count": null,
      "outputs": []
    },
    {
      "cell_type": "markdown",
      "source": [
        "**Convert the reviews and labels into lists**"
      ],
      "metadata": {
        "id": "I5fEY73Hetkr"
      }
    },
    {
      "cell_type": "code",
      "source": [
        "reviews = df['short_review'].values.tolist()\n",
        "labels = df['Sentiment'].tolist()"
      ],
      "metadata": {
        "id": "PHik-J4mHMEa"
      },
      "execution_count": 19,
      "outputs": []
    },
    {
      "cell_type": "markdown",
      "source": [
        "**Lets split the data into training and testing sets**"
      ],
      "metadata": {
        "id": "dnKfQB07fA8G"
      }
    },
    {
      "cell_type": "code",
      "source": [
        "from sklearn.model_selection import train_test_split\n",
        "training_sentences , validation_sentences, training_labels, validation_labels= train_test_split(reviews , labels, test_size = 0.2)"
      ],
      "metadata": {
        "id": "NAddK0qJHfMk"
      },
      "execution_count": 21,
      "outputs": []
    },
    {
      "cell_type": "markdown",
      "source": [
        ""
      ],
      "metadata": {
        "id": "NGLyMKmffMfO"
      }
    },
    {
      "cell_type": "code",
      "source": [
        "tokenizer = DistilBertTokenizerFast.from_pretrained('distilbert-base-uncased')"
      ],
      "metadata": {
        "id": "f39n3juJH0Zq"
      },
      "execution_count": null,
      "outputs": []
    },
    {
      "cell_type": "code",
      "source": [
        "tokenizer([training_sentences[0]], truncation = True , padding = True , max_length = 128)"
      ],
      "metadata": {
        "id": "wVf2YXkRKEsk"
      },
      "execution_count": null,
      "outputs": []
    },
    {
      "cell_type": "markdown",
      "source": [
        "**Encodings of training and Validation data**"
      ],
      "metadata": {
        "id": "UU_2bB8Hghvd"
      }
    },
    {
      "cell_type": "code",
      "source": [
        "train_encodings = tokenizer(training_sentences , truncation = True , padding = True)\n",
        "val_encodings = tokenizer(validation_sentences , truncation = True , padding = True)"
      ],
      "metadata": {
        "id": "57X7wcQ0KLIb"
      },
      "execution_count": 25,
      "outputs": []
    },
    {
      "cell_type": "markdown",
      "source": [
        "**Lets stich encoding and labels together**"
      ],
      "metadata": {
        "id": "0m6VSN3vgyO0"
      }
    },
    {
      "cell_type": "code",
      "source": [
        "train_dataset = tf.data.Dataset.from_tensor_slices((dict(train_encodings), training_labels))"
      ],
      "metadata": {
        "id": "S5lA7V6IKtJa"
      },
      "execution_count": 26,
      "outputs": []
    },
    {
      "cell_type": "code",
      "source": [
        "val_dataset = tf.data.Dataset.from_tensor_slices((dict(val_encodings), validation_labels))"
      ],
      "metadata": {
        "id": "Miszqt37K_A8"
      },
      "execution_count": 27,
      "outputs": []
    },
    {
      "cell_type": "markdown",
      "source": [
        "**Download the pretrained model**"
      ],
      "metadata": {
        "id": "0QCI_fZmg7Dk"
      }
    },
    {
      "cell_type": "code",
      "source": [
        "model = TFDistilBertForSequenceClassification.from_pretrained('distilbert-base-uncased', num_labels= 2)"
      ],
      "metadata": {
        "id": "SSkRRkkCLPUw"
      },
      "execution_count": null,
      "outputs": []
    },
    {
      "cell_type": "markdown",
      "source": [
        "**Set the hyperparameters and compile the model**"
      ],
      "metadata": {
        "id": "DjdN4qjug4Od"
      }
    },
    {
      "cell_type": "code",
      "source": [
        "from tensorflow.python.ops.gen_dataset_ops import optimize_dataset\n",
        "optimizer = tf.keras.optimizers.Adam(learning_rate = 5e-5 , epsilon = 1e-8)\n",
        "model.compile(optimizer = optimizer , loss = model.compute_loss , metrics = ['accuracy'])"
      ],
      "metadata": {
        "id": "mMyNwIMuLlwg"
      },
      "execution_count": 32,
      "outputs": []
    },
    {
      "cell_type": "markdown",
      "source": [
        "**Lets test what the model is predicting for this review**"
      ],
      "metadata": {
        "id": "CtrhEBBlhdps"
      }
    },
    {
      "cell_type": "code",
      "source": [
        "test_sentence = \"This is a good product. Love it\""
      ],
      "metadata": {
        "id": "JTFDM08zM9Wy"
      },
      "execution_count": 48,
      "outputs": []
    },
    {
      "cell_type": "markdown",
      "source": [
        "**Before prediction, preprocess the test sentence, remove the padding and truncation.**"
      ],
      "metadata": {
        "id": "26WOCQCmhwoU"
      }
    },
    {
      "cell_type": "code",
      "source": [
        "predict_input = tokenizer.encode(test_sentence, truncation = True, padding = True , return_tensors = \"tf\")"
      ],
      "metadata": {
        "id": "9jJOIp6lN8cO"
      },
      "execution_count": 49,
      "outputs": []
    },
    {
      "cell_type": "markdown",
      "source": [
        "**Lets see what my model is predicting**"
      ],
      "metadata": {
        "id": "m_JJSZr9iDfV"
      }
    },
    {
      "cell_type": "code",
      "source": [
        "tf_output = model.predict(predict_input)[0]\n",
        "tf_prediction = tf.nn.softmax(tf_output, axis = 1)\n",
        "labels = ['Negative  :(' , 'Positive   :)']\n",
        "label = tf.argmax(tf_prediction, axis=1)\n",
        "label = label.numpy()\n",
        "print((labels[label[0]]))"
      ],
      "metadata": {
        "colab": {
          "base_uri": "https://localhost:8080/"
        },
        "id": "yMfdwOsqOIVq",
        "outputId": "00b205b3-6a30-4ace-d6ff-e56e5535c835"
      },
      "execution_count": 87,
      "outputs": [
        {
          "output_type": "stream",
          "name": "stdout",
          "text": [
            "Positive   :)\n"
          ]
        }
      ]
    },
    {
      "cell_type": "markdown",
      "source": [
        "## ***Congratulations!! you have trained a model to predict sentiments. ***\n",
        "\n",
        "**Now you can do sentiment Analysis on text data by using BERT :)**"
      ],
      "metadata": {
        "id": "zdz-97YCiKw7"
      }
    },
    {
      "cell_type": "code",
      "source": [
        ""
      ],
      "metadata": {
        "id": "S61Y0lSpOxWO"
      },
      "execution_count": null,
      "outputs": []
    }
  ]
}