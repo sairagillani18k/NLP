{
 "cells": [
  {
   "cell_type": "code",
   "execution_count": 9,
   "id": "113d3a33",
   "metadata": {},
   "outputs": [],
   "source": [
    "import nltk\n",
    "import nltk\n",
    "import pandas as pd\n",
    "import chardet\n",
    "\n",
    "from nltk.corpus import stopwords\n",
    "from nltk.tokenize import sent_tokenize\n",
    "from nltk.tokenize import word_tokenize"
   ]
  },
  {
   "cell_type": "code",
   "execution_count": 48,
   "id": "b69b467f",
   "metadata": {},
   "outputs": [
    {
     "name": "stderr",
     "output_type": "stream",
     "text": [
      "[nltk_data] Downloading package words to\n",
      "[nltk_data]     C:\\Users\\Saira\\AppData\\Roaming\\nltk_data...\n",
      "[nltk_data]   Unzipping corpora\\words.zip.\n"
     ]
    },
    {
     "data": {
      "text/plain": [
       "True"
      ]
     },
     "execution_count": 48,
     "metadata": {},
     "output_type": "execute_result"
    }
   ],
   "source": [
    "#nltk.download('punkt')\n",
    "#nltk.download('wordnet')\n",
    "#nltk.download('averaged_perceptron_tagger')\n",
    "#nltk.download('maxent_ne_chunker')\n",
    "nltk.download('words')"
   ]
  },
  {
   "cell_type": "code",
   "execution_count": 16,
   "id": "1ab9478c",
   "metadata": {},
   "outputs": [],
   "source": [
    "super_quote = \"You can't go back and change the beginning, but you can start where you are and change the ending.\""
   ]
  },
  {
   "cell_type": "code",
   "execution_count": 17,
   "id": "03acb7fb",
   "metadata": {},
   "outputs": [
    {
     "data": {
      "text/plain": [
       "['You',\n",
       " 'ca',\n",
       " \"n't\",\n",
       " 'go',\n",
       " 'back',\n",
       " 'and',\n",
       " 'change',\n",
       " 'the',\n",
       " 'beginning',\n",
       " ',',\n",
       " 'but',\n",
       " 'you',\n",
       " 'can',\n",
       " 'start',\n",
       " 'where',\n",
       " 'you',\n",
       " 'are',\n",
       " 'and',\n",
       " 'change',\n",
       " 'the',\n",
       " 'ending',\n",
       " '.']"
      ]
     },
     "execution_count": 17,
     "metadata": {},
     "output_type": "execute_result"
    }
   ],
   "source": [
    "super_quote_token = word_tokenize(super_quote)\n",
    "super_quote_token"
   ]
  },
  {
   "cell_type": "code",
   "execution_count": 19,
   "id": "9ac64bfe",
   "metadata": {},
   "outputs": [
    {
     "data": {
      "text/plain": [
       "[('You', 'ca'),\n",
       " ('ca', \"n't\"),\n",
       " (\"n't\", 'go'),\n",
       " ('go', 'back'),\n",
       " ('back', 'and'),\n",
       " ('and', 'change'),\n",
       " ('change', 'the'),\n",
       " ('the', 'beginning'),\n",
       " ('beginning', ','),\n",
       " (',', 'but'),\n",
       " ('but', 'you'),\n",
       " ('you', 'can'),\n",
       " ('can', 'start'),\n",
       " ('start', 'where'),\n",
       " ('where', 'you'),\n",
       " ('you', 'are'),\n",
       " ('are', 'and'),\n",
       " ('and', 'change'),\n",
       " ('change', 'the'),\n",
       " ('the', 'ending'),\n",
       " ('ending', '.')]"
      ]
     },
     "execution_count": 19,
     "metadata": {},
     "output_type": "execute_result"
    }
   ],
   "source": [
    "list(nltk.bigrams(super_quote_token))"
   ]
  },
  {
   "cell_type": "code",
   "execution_count": 20,
   "id": "4afe2810",
   "metadata": {},
   "outputs": [
    {
     "data": {
      "text/plain": [
       "[('You', 'ca', \"n't\"),\n",
       " ('ca', \"n't\", 'go'),\n",
       " (\"n't\", 'go', 'back'),\n",
       " ('go', 'back', 'and'),\n",
       " ('back', 'and', 'change'),\n",
       " ('and', 'change', 'the'),\n",
       " ('change', 'the', 'beginning'),\n",
       " ('the', 'beginning', ','),\n",
       " ('beginning', ',', 'but'),\n",
       " (',', 'but', 'you'),\n",
       " ('but', 'you', 'can'),\n",
       " ('you', 'can', 'start'),\n",
       " ('can', 'start', 'where'),\n",
       " ('start', 'where', 'you'),\n",
       " ('where', 'you', 'are'),\n",
       " ('you', 'are', 'and'),\n",
       " ('are', 'and', 'change'),\n",
       " ('and', 'change', 'the'),\n",
       " ('change', 'the', 'ending'),\n",
       " ('the', 'ending', '.')]"
      ]
     },
     "execution_count": 20,
     "metadata": {},
     "output_type": "execute_result"
    }
   ],
   "source": [
    "list(nltk.trigrams(super_quote_token))"
   ]
  },
  {
   "cell_type": "code",
   "execution_count": 21,
   "id": "d8331a67",
   "metadata": {},
   "outputs": [
    {
     "data": {
      "text/plain": [
       "[('You', 'ca', \"n't\", 'go', 'back'),\n",
       " ('ca', \"n't\", 'go', 'back', 'and'),\n",
       " (\"n't\", 'go', 'back', 'and', 'change'),\n",
       " ('go', 'back', 'and', 'change', 'the'),\n",
       " ('back', 'and', 'change', 'the', 'beginning'),\n",
       " ('and', 'change', 'the', 'beginning', ','),\n",
       " ('change', 'the', 'beginning', ',', 'but'),\n",
       " ('the', 'beginning', ',', 'but', 'you'),\n",
       " ('beginning', ',', 'but', 'you', 'can'),\n",
       " (',', 'but', 'you', 'can', 'start'),\n",
       " ('but', 'you', 'can', 'start', 'where'),\n",
       " ('you', 'can', 'start', 'where', 'you'),\n",
       " ('can', 'start', 'where', 'you', 'are'),\n",
       " ('start', 'where', 'you', 'are', 'and'),\n",
       " ('where', 'you', 'are', 'and', 'change'),\n",
       " ('you', 'are', 'and', 'change', 'the'),\n",
       " ('are', 'and', 'change', 'the', 'ending'),\n",
       " ('and', 'change', 'the', 'ending', '.')]"
      ]
     },
     "execution_count": 21,
     "metadata": {},
     "output_type": "execute_result"
    }
   ],
   "source": [
    "list(nltk.ngrams(super_quote_token, 5))"
   ]
  },
  {
   "cell_type": "code",
   "execution_count": 22,
   "id": "a4c8f059",
   "metadata": {},
   "outputs": [],
   "source": [
    "#stemming\n",
    "from nltk.stem import PorterStemmer\n",
    "pst = PorterStemmer() # create an instance"
   ]
  },
  {
   "cell_type": "code",
   "execution_count": 24,
   "id": "558ece54",
   "metadata": {},
   "outputs": [
    {
     "data": {
      "text/plain": [
       "('win', 'studi', 'buy')"
      ]
     },
     "execution_count": 24,
     "metadata": {},
     "output_type": "execute_result"
    }
   ],
   "source": [
    "pst.stem(\"winning\"), pst.stem(\"studies\"), pst.stem(\"buying\")"
   ]
  },
  {
   "cell_type": "code",
   "execution_count": 25,
   "id": "12fef48e",
   "metadata": {},
   "outputs": [],
   "source": [
    "#LemmatizLemmatizer\n",
    "\n",
    "from nltk.stem import wordnet\n",
    "from nltk.stem import WordNetLemmatizer\n",
    "lemmatizer = WordNetLemmatizer()"
   ]
  },
  {
   "cell_type": "code",
   "execution_count": 26,
   "id": "9d522f73",
   "metadata": {},
   "outputs": [],
   "source": [
    "words_to_stem = [\"cats\", \"cacti\" , \"geese\"]"
   ]
  },
  {
   "cell_type": "code",
   "execution_count": 30,
   "id": "6e79eb7c",
   "metadata": {},
   "outputs": [
    {
     "name": "stdout",
     "output_type": "stream",
     "text": [
      "cats:cat\n",
      "cacti:cactus\n",
      "geese:goose\n"
     ]
    }
   ],
   "source": [
    "for i in words_to_stem:\n",
    "    print(i + \":\" + lemmatizer.lemmatize(i))"
   ]
  },
  {
   "cell_type": "code",
   "execution_count": 31,
   "id": "a5852c65",
   "metadata": {},
   "outputs": [],
   "source": [
    "pos_tokenize = word_tokenize(super_quote)"
   ]
  },
  {
   "cell_type": "code",
   "execution_count": 34,
   "id": "467fe47c",
   "metadata": {},
   "outputs": [
    {
     "name": "stdout",
     "output_type": "stream",
     "text": [
      "[('You', 'PRP')]\n",
      "[('ca', 'MD')]\n",
      "[(\"n't\", 'RB')]\n",
      "[('go', 'VB')]\n",
      "[('back', 'RB')]\n",
      "[('and', 'CC')]\n",
      "[('change', 'NN')]\n",
      "[('the', 'DT')]\n",
      "[('beginning', 'VBG')]\n",
      "[(',', ',')]\n",
      "[('but', 'CC')]\n",
      "[('you', 'PRP')]\n",
      "[('can', 'MD')]\n",
      "[('start', 'NN')]\n",
      "[('where', 'WRB')]\n",
      "[('you', 'PRP')]\n",
      "[('are', 'VBP')]\n",
      "[('and', 'CC')]\n",
      "[('change', 'NN')]\n",
      "[('the', 'DT')]\n",
      "[('ending', 'VBG')]\n",
      "[('.', '.')]\n"
     ]
    }
   ],
   "source": [
    "for i in pos_tokenize:\n",
    "    print(nltk.pos_tag([i]))\n",
    "    "
   ]
  },
  {
   "cell_type": "code",
   "execution_count": 35,
   "id": "55704995",
   "metadata": {},
   "outputs": [],
   "source": [
    "mary = \"Mary had a little lamb, who she really loved\""
   ]
  },
  {
   "cell_type": "code",
   "execution_count": 36,
   "id": "6133773a",
   "metadata": {},
   "outputs": [],
   "source": [
    "mary_tokenize = word_tokenize(mary)"
   ]
  },
  {
   "cell_type": "code",
   "execution_count": 37,
   "id": "40714795",
   "metadata": {},
   "outputs": [
    {
     "name": "stdout",
     "output_type": "stream",
     "text": [
      "[('Mary', 'NNP')]\n",
      "[('had', 'VBD')]\n",
      "[('a', 'DT')]\n",
      "[('little', 'JJ')]\n",
      "[('lamb', 'NN')]\n",
      "[(',', ',')]\n",
      "[('who', 'WP')]\n",
      "[('she', 'PRP')]\n",
      "[('really', 'RB')]\n",
      "[('loved', 'VBN')]\n"
     ]
    }
   ],
   "source": [
    "for i in mary_tokenize:\n",
    "    print(nltk.pos_tag([i]))"
   ]
  },
  {
   "cell_type": "code",
   "execution_count": 38,
   "id": "64b0152c",
   "metadata": {},
   "outputs": [],
   "source": [
    "from nltk import ne_chunk"
   ]
  },
  {
   "cell_type": "code",
   "execution_count": 39,
   "id": "78cfecd3",
   "metadata": {},
   "outputs": [],
   "source": [
    "john = \"john lives in New York\""
   ]
  },
  {
   "cell_type": "code",
   "execution_count": 43,
   "id": "af3bf81c",
   "metadata": {},
   "outputs": [],
   "source": [
    "john_token = word_tokenize(john)"
   ]
  },
  {
   "cell_type": "code",
   "execution_count": 44,
   "id": "4517e428",
   "metadata": {},
   "outputs": [
    {
     "data": {
      "text/plain": [
       "[('john', 'NN'),\n",
       " ('lives', 'NNS'),\n",
       " ('in', 'IN'),\n",
       " ('New', 'NNP'),\n",
       " ('York', 'NNP')]"
      ]
     },
     "execution_count": 44,
     "metadata": {},
     "output_type": "execute_result"
    }
   ],
   "source": [
    "john_tags = nltk.pos_tag(john_token)\n",
    "john_tags"
   ]
  },
  {
   "cell_type": "code",
   "execution_count": 49,
   "id": "edfbe523",
   "metadata": {},
   "outputs": [
    {
     "name": "stdout",
     "output_type": "stream",
     "text": [
      "(S john/NN lives/NNS in/IN (GPE New/NNP York/NNP))\n"
     ]
    }
   ],
   "source": [
    "john_ner = ne_chunk(john_tags)\n",
    "print(john_ner)"
   ]
  },
  {
   "cell_type": "code",
   "execution_count": null,
   "id": "464259ad",
   "metadata": {},
   "outputs": [],
   "source": []
  }
 ],
 "metadata": {
  "kernelspec": {
   "display_name": "Python 3 (ipykernel)",
   "language": "python",
   "name": "python3"
  },
  "language_info": {
   "codemirror_mode": {
    "name": "ipython",
    "version": 3
   },
   "file_extension": ".py",
   "mimetype": "text/x-python",
   "name": "python",
   "nbconvert_exporter": "python",
   "pygments_lexer": "ipython3",
   "version": "3.9.7"
  }
 },
 "nbformat": 4,
 "nbformat_minor": 5
}
